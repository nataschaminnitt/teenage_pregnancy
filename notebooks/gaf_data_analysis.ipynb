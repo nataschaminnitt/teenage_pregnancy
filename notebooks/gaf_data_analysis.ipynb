{
 "cells": [
  {
   "cell_type": "markdown",
   "id": "aa298e4f-f7c4-49c8-9daa-9828be4fff30",
   "metadata": {},
   "source": [
    "# FORMATIVE ASSESSMENT OF ADOLESCENT GIRLS AND YOUNG WOMEN’S HIV, GENDER-BASED VIOLENCE AND SEXUAL AND REPRODUCTIVE HEALTH STATUS\n",
    "\n",
    "## Background\n",
    "Teenage pregnancy and motherhood have been a major health and social concern in Uganda as it infringes upon the human rights of girls but also hinders their ability to achieve their full socioeconomic development. Teenagers who engage in sexual intercourse at a young age face an elevated risk of becoming pregnant and giving birth. The 2022 UDHS indicated that 23.5% of women age 15-19 had initiated childbearing by the time of the survey, with 18.4% having already had a live birth, while 5.1% were pregnant with their first child.\n",
    "\n",
    "Patterns by background characteristics:\n",
    "* By age 16, 1 in every 10 women age 15-19 has begun childbearing. This percentage significantly rises to almost 4 out of every 10 by the time they reach 18 (Table 5.12).\n",
    "* Teenagers in rural areas started childbearing earlier than those in urban areas. Twenty five percent of women age 15-19 in rural areas have begun childbearing, compared with 21% in urban areas.\n",
    "* Teenage childbearing varies by region. The percentage of women age 15-19 who have begun childbearing ranges from 15% in Kigezi region to 28 % -30% in Busoga and Bukedi sub regions.\n",
    "* The proportion of women age 15-19 who have begun childbearing decreases with both education and wealth.\n",
    "\n",
    "Regions: The selection of the districts that we surveyed was informed by HIV prevalence dynamics and implementing partner support: we went to districts where there were Global Fund-supported implementing partners working to reduce the new number of new HIV infections among AGYW, improve SRH (e.g. reduce teenage pregnancy) and GBV indicators in the targeted districts.\n",
    "\n",
    "## Data Analysis\n",
    "\n",
    "The output of this notebook includes a data analysis responding to the research questions."
   ]
  },
  {
   "cell_type": "markdown",
   "id": "5e39de34-a298-4311-b115-196d60d336a0",
   "metadata": {},
   "source": [
    "### Data Loading"
   ]
  },
  {
   "cell_type": "code",
   "execution_count": 2,
   "id": "9ccf8a14-3940-4b23-b1bc-fb8234919398",
   "metadata": {},
   "outputs": [
    {
     "name": "stdout",
     "output_type": "stream",
     "text": [
      "Current directory: /Users/nataschajademinnitt/Documents/5. Data Analysis/teenage_pregnancy\n"
     ]
    }
   ],
   "source": [
    "# Libraries\n",
    "import warnings\n",
    "import os\n",
    "import time\n",
    "import numpy as np\n",
    "import pandas as pd\n",
    "import matplotlib.pyplot as plt\n",
    "import seaborn as sns\n",
    "from sklearn.preprocessing import OneHotEncoder\n",
    "from spicy import stats\n",
    "from scipy.stats import zscore\n",
    "from sklearn.preprocessing import StandardScaler\n",
    "import statsmodels.api as sm\n",
    "from sklearn.metrics import r2_score\n",
    "\n",
    "# Set-up environment\n",
    "pd.options.display.float_format = '{:.2f}'.format\n",
    "pd.set_option('display.max_colwidth', None)\n",
    "sns.set_theme(style=\"whitegrid\", context=\"paper\")\n",
    "os.chdir('/Users/nataschajademinnitt/Documents/5. Data Analysis/teenage_pregnancy')\n",
    "print(\"Current directory:\", os.getcwd())\n",
    "warnings.filterwarnings(\"ignore\")"
   ]
  },
  {
   "cell_type": "code",
   "execution_count": 4,
   "id": "6c2613a4-722f-4469-ad0b-a4158221f9d2",
   "metadata": {},
   "outputs": [],
   "source": [
    "# Load the data\n",
    "df = pd.read_csv(\"./data/processed_df.csv\")\n",
    "df_preg = df.loc[(df['been_preg'] == 1) & (df['age_preg'] <= 19)]"
   ]
  },
  {
   "cell_type": "markdown",
   "id": "7d478aed-d363-4f92-be64-4b47f84b2090",
   "metadata": {},
   "source": [
    "## Research Questions"
   ]
  },
  {
   "cell_type": "markdown",
   "id": "e658bda5-15ca-413a-a48e-78efc8d57072",
   "metadata": {},
   "source": [
    "### Socio-Demographic and Educational Factors\n",
    "\n",
    "**1. How does household wealth predict the likelihood of teenage pregnancy?**\n",
    "\n",
    "Sample: Between group (been pregnant = 1,925 | Not been pregnant = 1,513)\n",
    "\n",
    "Interpretation:\n",
    "* Girls in the Medium wealth group have odds of teenage pregnancy that are 44% of the odds for girls in the Low wealth group. This implies a 56% reduction in odds compared to the reference group (since 1 - 0.44 = 0.56).\n",
    "* Girls in the High wealth group have odds of teenage pregnancy that are only 11% of those for girls in the Low wealth group—a reduction of 89% (1 - 0.11 = 0.89).\n",
    "* This model clearly shows a gradient in risk: as wealth increases, the odds of teenage pregnancy decrease significantly.\n",
    "\n",
    "Controls:\n",
    "* Nearly everyone has the same value (e.g., 97% attend school), the control adds little and can cause numerical issues.\n",
    "* Given that almost all girls who have been married tend to experience teenage pregnancy afterwards, using the marriage variable to predict pregnancy across groups can lead to separation issues and isn’t as informative.\n",
    "* Household vulnerability was not a significant predictor."
   ]
  },
  {
   "cell_type": "code",
   "execution_count": 10,
   "id": "9aa052bb-aca7-4976-b1f6-5c685ff22fae",
   "metadata": {},
   "outputs": [
    {
     "name": "stdout",
     "output_type": "stream",
     "text": [
      "                           Logit Regression Results                           \n",
      "==============================================================================\n",
      "Dep. Variable:              been_preg   No. Observations:                 3438\n",
      "Model:                          Logit   Df Residuals:                     3435\n",
      "Method:                           MLE   Df Model:                            2\n",
      "Date:                Sun, 06 Apr 2025   Pseudo R-squ.:                  0.1363\n",
      "Time:                        16:36:01   Log-Likelihood:                -2037.0\n",
      "converged:                       True   LL-Null:                       -2358.3\n",
      "Covariance Type:            nonrobust   LLR p-value:                2.770e-140\n",
      "=================================================================================\n",
      "                    coef    std err          z      P>|z|      [0.025      0.975]\n",
      "---------------------------------------------------------------------------------\n",
      "const             1.2919      0.072     17.983      0.000       1.151       1.433\n",
      "wealth_Medium    -0.8140      0.094     -8.652      0.000      -0.998      -0.630\n",
      "wealth_High      -2.2476      0.098    -23.042      0.000      -2.439      -2.056\n",
      "=================================================================================\n",
      "Odds Ratios (categorical):\n",
      " const           3.64\n",
      "wealth_Medium   0.44\n",
      "wealth_High     0.11\n",
      "dtype: float64\n"
     ]
    }
   ],
   "source": [
    "# Create dummies for wealth tertile with 'Low' as reference\n",
    "df['wealth_tertile'] = pd.Categorical(\n",
    "    df['wealth_tertile'],\n",
    "    categories=['Low', 'Medium', 'High'],\n",
    "    ordered=True\n",
    ")\n",
    "# Create wealth dummies from the original df\n",
    "wealth_dummies = pd.get_dummies(df['wealth_tertile'], prefix='wealth', drop_first=True)\n",
    "\n",
    "# Concatenate dummies to df\n",
    "df_model_cat = pd.concat([df, wealth_dummies], axis=1)\n",
    "\n",
    "# Design matrix using the dummy column names\n",
    "X_cat = df_model_cat[wealth_dummies.columns]\n",
    "X_cat = sm.add_constant(X_cat)\n",
    "X_cat = X_cat.astype(float)\n",
    "y_cat = df_model_cat['been_preg']\n",
    "\n",
    "# Fit the logistic regression\n",
    "model_cat = sm.Logit(y_cat, X_cat).fit(disp=False)\n",
    "print(model_cat.summary())\n",
    "\n",
    "# Convert coefficients to odds ratios\n",
    "or_cat = np.exp(model_cat.params)\n",
    "print(\"Odds Ratios (categorical):\\n\", or_cat)"
   ]
  },
  {
   "cell_type": "markdown",
   "id": "759dfab2-ed1e-42cd-8552-1f4a54a08998",
   "metadata": {},
   "source": [
    "**2. What is the relationship between school attendance/educational attainment and the risk of teenage pregnancy?**\n",
    "\n",
    "Revised subsetting:\n",
    "* Between‑groups: If you have historical schooling data, compare the educational status at the time of pregnancy for the 1,295 girls with a similar measure from the 1,514 girls (now older than 19) who never experienced pregnancy.\n",
    "* Rationale: This comparison uses complete risk window information for non‑pregnant girls, reducing bias from including those who might later become pregnant."
   ]
  },
  {
   "cell_type": "code",
   "execution_count": null,
   "id": "8aa73a95-e050-4a53-a635-0255fca602f1",
   "metadata": {},
   "outputs": [],
   "source": []
  },
  {
   "cell_type": "markdown",
   "id": "6b4bf96e-a9c9-4b46-9c1c-f634e6fa5ad7",
   "metadata": {},
   "source": [
    "**3. Among girls who experienced teenage pregnancy, does being in school versus out of school influence outcomes such as dropout or willingness to return to school?**\n",
    "\n",
    "Subsetting remains:\n",
    "* Within‑group: Focus solely on the 1,295 girls who experienced pregnancy between 10–19 years.\n",
    "* Rationale: This allows you to explore how schooling status at or after pregnancy is associated with subsequent educational outcomes."
   ]
  },
  {
   "cell_type": "code",
   "execution_count": null,
   "id": "fec3ef89-0766-4a54-8908-fff8fc77e3c3",
   "metadata": {},
   "outputs": [],
   "source": []
  },
  {
   "cell_type": "markdown",
   "id": "d5e8c3dc-5544-4d7d-a450-90213470362e",
   "metadata": {},
   "source": [
    "### Sexual Behavior and Contraceptive Use\n",
    "\n",
    "**4. Does the age at first sexual intercourse and the context of that encounter influence the risk of teenage pregnancy?**\n",
    "\n",
    "Revised subsetting:\n",
    "* Between‑groups: Compare girls who experienced pregnancy (n = 1,295) with girls who have fully passed through the risk period (n = 1,514).\n",
    "* Rationale: Using girls older than 19 in the non‑pregnant group gives a full account of sexual behavior and risk exposure without the censoring of younger non‑pregnant girls."
   ]
  },
  {
   "cell_type": "code",
   "execution_count": null,
   "id": "32604fbd-147c-4102-ab4b-e4da22ec81f0",
   "metadata": {},
   "outputs": [],
   "source": []
  },
  {
   "cell_type": "markdown",
   "id": "64739fb2-6417-410a-a63d-ccec539980a8",
   "metadata": {},
   "source": [
    "**5. How does early initiation of contraceptive use predict sustained use and lower rates of teenage pregnancy?**\n",
    "\n",
    "Dual approach:\n",
    "* For contraceptive behavior: Analyze within the subset of sexually active girls regardless of current age, tracking those who used contraception at first sex versus those who did not.\n",
    "* For pregnancy risk: Compare the contraceptive patterns of the 1,295 girls with teenage pregnancy to the 1,514 girls who are older than 19 and never experienced pregnancy.\n",
    "* Rationale: This approach allows you to assess both the immediate impact of early contraceptive use and its association with having avoided pregnancy over the full risk period."
   ]
  },
  {
   "cell_type": "code",
   "execution_count": null,
   "id": "925a4f0a-4399-419d-b5b4-be000f674c39",
   "metadata": {},
   "outputs": [],
   "source": []
  },
  {
   "cell_type": "markdown",
   "id": "888b44bb-a683-4f42-a428-24ea0d62f66b",
   "metadata": {},
   "source": [
    "**6. Are there differences in reproductive health knowledge and contraceptive practices between pregnant and non‑pregnant adolescents?**\n",
    "\n",
    "Revised subsetting:\n",
    "* Between‑groups: Again, compare the 1,295 girls (pregnancy event during 10–19) with the 1,514 girls older than 19 who have never been pregnant.\n",
    "* Rationale: This contrast ensures that non‑pregnant girls have had the full window of exposure, which makes differences in knowledge and practices more interpretable."
   ]
  },
  {
   "cell_type": "code",
   "execution_count": null,
   "id": "fe66e7fc-b87a-4326-a9f0-703d1e1f35c6",
   "metadata": {},
   "outputs": [],
   "source": []
  },
  {
   "cell_type": "markdown",
   "id": "7f249e9d-3cea-4276-ab36-115f6c11e4dc",
   "metadata": {},
   "source": [
    "### Marital Status and Social Norms\n",
    "\n",
    "**7. Does marriage or a consensual union mediate the relationship between teenage pregnancy and school dropout?**\n",
    "\n",
    "Revised subsetting:\n",
    "* Within‑group: Focus on the 1,295 girls who experienced teenage pregnancy, using retrospective data on marital status and schooling at the time of the event.\n",
    "* Rationale: Since marital status can change over time, using the pregnant subgroup helps clarify the temporal ordering and mediating role of marriage."
   ]
  },
  {
   "cell_type": "code",
   "execution_count": null,
   "id": "4118eed4-7b6b-4809-a6cf-92ab7e31ff45",
   "metadata": {},
   "outputs": [],
   "source": []
  },
  {
   "cell_type": "markdown",
   "id": "53e66378-0373-417e-9b2c-9566abfc0977",
   "metadata": {},
   "source": [
    "**8. How do social norms and attitudes influence teenage pregnancy risk and subsequent reproductive choices?**\n",
    "\n",
    "Revised subsetting:\n",
    "* Between‑groups: Compare attitudes among the 1,295 girls (pregnant during 10–19) with those of the 1,514 girls (non‑pregnant, aged >19).\n",
    "* Rationale: This comparison leverages the complete exposure period for the non‑pregnant group, allowing you to assess whether certain attitudes correlate with having experienced pregnancy."
   ]
  },
  {
   "cell_type": "code",
   "execution_count": null,
   "id": "51e68bfe-6abd-46c4-9cd0-9e14f129b529",
   "metadata": {},
   "outputs": [],
   "source": []
  },
  {
   "cell_type": "markdown",
   "id": "9e7dfa69-4983-4ceb-9a14-db0b10cefbf9",
   "metadata": {},
   "source": [
    "### Pregnancy Outcomes and Abortion Practices\n",
    "\n",
    "**9. Among those who experienced teenage pregnancy, what is the prevalence of induced abortion, and what factors predict the likelihood of seeking an abortion?**\n",
    "\n",
    "Subsetting remains:\n",
    "* Within‑group: Focus on the 1,295 girls who experienced pregnancy between 10–19.\n",
    "* Rationale: This focused subgroup allows for detailed analysis of pregnancy outcomes, including abortion practices."
   ]
  },
  {
   "cell_type": "code",
   "execution_count": null,
   "id": "371f4d2b-dc10-4d8d-9fb7-b2c5b60568da",
   "metadata": {},
   "outputs": [],
   "source": []
  },
  {
   "cell_type": "markdown",
   "id": "a759f782-f94b-4908-bbc4-7ab5d4b1f6ab",
   "metadata": {},
   "source": [
    "**10. How do the timing and context of pregnancy relate to the decision to induce an abortion, and does this vary by schooling status?**\n",
    "\n",
    "Subsetting remains:\n",
    "* Within‑group: Analyze within the 1,295 girls who experienced teenage pregnancy.\n",
    "* Rationale: This allows you to assess the interplay of timing, contextual factors (e.g., age at pregnancy, schooling status), and abortion decisions without additional confounding from non‑pregnant girls."
   ]
  },
  {
   "cell_type": "code",
   "execution_count": null,
   "id": "fe4df43d-2ede-49ce-bb11-b8b278dbc1af",
   "metadata": {},
   "outputs": [],
   "source": []
  },
  {
   "cell_type": "markdown",
   "id": "ff627a43-f869-427e-ac56-9b772ec7d1fe",
   "metadata": {},
   "source": [
    "### Information Sources and Health Knowledge\n",
    "**11. What role do different sources of sexual and reproductive health information play in shaping knowledge and practices that affect teenage pregnancy risk?**\n",
    "\n",
    "Revised subsetting:\n",
    "* Between‑groups: Compare the 1,295 girls (pregnant during 10–19) with the 1,514 girls (non‑pregnant, aged >19).\n",
    "* Rationale: Using the full risk window for the non‑pregnant group provides a more definitive comparison of the influence of information sources."
   ]
  },
  {
   "cell_type": "code",
   "execution_count": null,
   "id": "c99fe87d-ccf2-4094-820c-7b3cdcfdec9d",
   "metadata": {},
   "outputs": [],
   "source": []
  },
  {
   "cell_type": "markdown",
   "id": "e484da30-d807-4930-b6ee-d7fc00b88de9",
   "metadata": {},
   "source": [
    "**12. How do misconceptions or a lack of reproductive health knowledge correlate with the occurrence of teenage pregnancy?**\n",
    "\n",
    "Revised subsetting:\n",
    "* Between‑groups: Compare the 1,295 girls with teenage pregnancy to the 1,514 older, non‑pregnant girls.\n",
    "* Rationale: This approach minimizes the potential misclassification of non‑pregnant girls who are still at risk, as the older group has already passed through the adolescent risk window."
   ]
  },
  {
   "cell_type": "code",
   "execution_count": null,
   "id": "de318db1-6baf-4667-9fe4-88241454f673",
   "metadata": {},
   "outputs": [],
   "source": []
  }
 ],
 "metadata": {
  "kernelspec": {
   "display_name": "Python 3 (ipykernel)",
   "language": "python",
   "name": "python3"
  },
  "language_info": {
   "codemirror_mode": {
    "name": "ipython",
    "version": 3
   },
   "file_extension": ".py",
   "mimetype": "text/x-python",
   "name": "python",
   "nbconvert_exporter": "python",
   "pygments_lexer": "ipython3",
   "version": "3.11.7"
  }
 },
 "nbformat": 4,
 "nbformat_minor": 5
}
