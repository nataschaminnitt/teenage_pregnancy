{
 "cells": [
  {
   "cell_type": "markdown",
   "id": "7c5d24a8-a323-42a4-b1c0-694044728181",
   "metadata": {},
   "source": [
    "# FORMATIVE ASSESSMENT OF ADOLESCENT GIRLS AND YOUNG WOMEN’S HIV, GENDER-BASED VIOLENCE AND SEXUAL AND REPRODUCTIVE HEALTH STATUS\n",
    "\n",
    "## Background\n",
    "Teenage pregnancy and motherhood have been a major health and social concern in Uganda as it infringes upon the human rights of girls but also hinders their ability to achieve their full socioeconomic development. Teenagers who engage in sexual intercourse at a young age face an elevated risk of becoming pregnant and giving birth. The 2022 UDHS indicated that 23.5% of women age 15-19 had initiated childbearing by the time of the survey, with 18.4% having already had a live birth, while 5.1% were pregnant with their first child.\n",
    "\n",
    "Patterns by background characteristics:\n",
    "* By age 16, 1 in every 10 women age 15-19 has begun childbearing. This percentage significantly rises to almost 4 out of every 10 by the time they reach 18 (Table 5.12).\n",
    "* Teenagers in rural areas started childbearing earlier than those in urban areas. Twenty five percent of women age 15-19 in rural areas have begun childbearing, compared with 21% in urban areas.\n",
    "* Teenage childbearing varies by region. The percentage of women age 15-19 who have begun childbearing ranges from 15% in Kigezi region to 28 % -30% in Busoga and Bukedi sub regions.\n",
    "* The proportion of women age 15-19 who have begun childbearing decreases with both education and wealth.\n",
    "\n",
    "Regions: The selection of the districts that we surveyed was informed by HIV prevalence dynamics and implementing partner support: we went to districts where there were Global Fund-supported implementing partners working to reduce the new number of new HIV infections among AGYW, improve SRH (e.g. reduce teenage pregnancy) and GBV indicators in the targeted districts.\n",
    "\n",
    "## Data Processing\n",
    "\n",
    "The output of this notebook includes four cleaned data frames, ready for further analysis."
   ]
  },
  {
   "cell_type": "markdown",
   "id": "222c3168-4e92-475c-a602-f04ed9abc658",
   "metadata": {},
   "source": [
    "## Load data"
   ]
  },
  {
   "cell_type": "code",
   "execution_count": 3,
   "id": "c55c2bce-1ed1-49d6-9d6c-7b04d8be6ed6",
   "metadata": {},
   "outputs": [
    {
     "name": "stdout",
     "output_type": "stream",
     "text": [
      "Current directory: /Users/nataschajademinnitt/Documents/5. Data Analysis/teenage_pregnancy\n"
     ]
    }
   ],
   "source": [
    "# Import libraries\n",
    "import warnings\n",
    "import os\n",
    "import pandas as pd\n",
    "import numpy as np\n",
    "import missingno as msno\n",
    "import seaborn as sns\n",
    "import matplotlib.pyplot as plt\n",
    "from tabulate import tabulate\n",
    "from sklearn.decomposition import PCA\n",
    "from sklearn.preprocessing import StandardScaler\n",
    "\n",
    "# Set environment\n",
    "pd.options.display.float_format = '{:.2f}'.format\n",
    "pd.set_option('display.max_colwidth', None)\n",
    "sns.set_theme(style=\"whitegrid\", context=\"paper\")\n",
    "os.chdir('/Users/nataschajademinnitt/Documents/5. Data Analysis/teenage_pregnancy')\n",
    "print(\"Current directory:\", os.getcwd())\n",
    "warnings.filterwarnings(\"ignore\")"
   ]
  },
  {
   "cell_type": "markdown",
   "id": "cb54d8b9-c23a-4077-b7af-eff1cce29ef4",
   "metadata": {},
   "source": [
    "## Data quality and description"
   ]
  },
  {
   "cell_type": "code",
   "execution_count": 5,
   "id": "746e63a9-6f6a-41b7-88b1-8d82ff048424",
   "metadata": {},
   "outputs": [
    {
     "data": {
      "text/html": [
       "<div>\n",
       "<style scoped>\n",
       "    .dataframe tbody tr th:only-of-type {\n",
       "        vertical-align: middle;\n",
       "    }\n",
       "\n",
       "    .dataframe tbody tr th {\n",
       "        vertical-align: top;\n",
       "    }\n",
       "\n",
       "    .dataframe thead th {\n",
       "        text-align: right;\n",
       "    }\n",
       "</style>\n",
       "<table border=\"1\" class=\"dataframe\">\n",
       "  <thead>\n",
       "    <tr style=\"text-align: right;\">\n",
       "      <th></th>\n",
       "      <th>uniquekey</th>\n",
       "      <th>part_number</th>\n",
       "      <th>school_name</th>\n",
       "      <th>date</th>\n",
       "      <th>scol_status</th>\n",
       "      <th>scol_own</th>\n",
       "      <th>scol_location</th>\n",
       "      <th>locate_other</th>\n",
       "      <th>scol_level</th>\n",
       "      <th>born_month</th>\n",
       "      <th>...</th>\n",
       "      <th>hivresult</th>\n",
       "      <th>regionstudy</th>\n",
       "      <th>regionubos</th>\n",
       "      <th>agegroup</th>\n",
       "      <th>syphilis</th>\n",
       "      <th>district</th>\n",
       "      <th>pop_nf_1024</th>\n",
       "      <th>sam_nf_1024</th>\n",
       "      <th>pon_nfagegrp</th>\n",
       "      <th>sam_nfagegrp</th>\n",
       "    </tr>\n",
       "  </thead>\n",
       "  <tbody>\n",
       "    <tr>\n",
       "      <th>0</th>\n",
       "      <td>358</td>\n",
       "      <td>01128</td>\n",
       "      <td>ABARLER P/S (01)</td>\n",
       "      <td>2018-08-07 00:00:00</td>\n",
       "      <td>In school</td>\n",
       "      <td>1.00</td>\n",
       "      <td>2.00</td>\n",
       "      <td></td>\n",
       "      <td>1.00</td>\n",
       "      <td>10.00</td>\n",
       "      <td>...</td>\n",
       "      <td>0</td>\n",
       "      <td>Northern1</td>\n",
       "      <td>Acholi</td>\n",
       "      <td>10-14</td>\n",
       "      <td>0.00</td>\n",
       "      <td>Amolatar</td>\n",
       "      <td>28759</td>\n",
       "      <td>418</td>\n",
       "      <td>11404</td>\n",
       "      <td>59</td>\n",
       "    </tr>\n",
       "    <tr>\n",
       "      <th>1</th>\n",
       "      <td>466</td>\n",
       "      <td>01150</td>\n",
       "      <td>ABERLER PRIMARY SCHOOL (01)</td>\n",
       "      <td>2018-08-07 00:00:00</td>\n",
       "      <td>In school</td>\n",
       "      <td>1.00</td>\n",
       "      <td>2.00</td>\n",
       "      <td></td>\n",
       "      <td>1.00</td>\n",
       "      <td>10.00</td>\n",
       "      <td>...</td>\n",
       "      <td>0</td>\n",
       "      <td>Northern1</td>\n",
       "      <td>Acholi</td>\n",
       "      <td>10-14</td>\n",
       "      <td>0.00</td>\n",
       "      <td>Amolatar</td>\n",
       "      <td>28759</td>\n",
       "      <td>418</td>\n",
       "      <td>11404</td>\n",
       "      <td>59</td>\n",
       "    </tr>\n",
       "    <tr>\n",
       "      <th>2</th>\n",
       "      <td>385</td>\n",
       "      <td>01135</td>\n",
       "      <td>ABALER PRIMARY SCHOOL(01)</td>\n",
       "      <td>2018-08-07 00:00:00</td>\n",
       "      <td>In school</td>\n",
       "      <td>1.00</td>\n",
       "      <td>2.00</td>\n",
       "      <td></td>\n",
       "      <td>1.00</td>\n",
       "      <td>7.00</td>\n",
       "      <td>...</td>\n",
       "      <td>0</td>\n",
       "      <td>Northern1</td>\n",
       "      <td>Acholi</td>\n",
       "      <td>10-14</td>\n",
       "      <td>0.00</td>\n",
       "      <td>Amolatar</td>\n",
       "      <td>28759</td>\n",
       "      <td>418</td>\n",
       "      <td>11404</td>\n",
       "      <td>59</td>\n",
       "    </tr>\n",
       "    <tr>\n",
       "      <th>3</th>\n",
       "      <td>381</td>\n",
       "      <td>01350</td>\n",
       "      <td></td>\n",
       "      <td>2018-08-15 00:00:00</td>\n",
       "      <td>Out of school</td>\n",
       "      <td>NaN</td>\n",
       "      <td>NaN</td>\n",
       "      <td></td>\n",
       "      <td>4.00</td>\n",
       "      <td>98.00</td>\n",
       "      <td>...</td>\n",
       "      <td>0</td>\n",
       "      <td>Northern1</td>\n",
       "      <td>Acholi</td>\n",
       "      <td>10-14</td>\n",
       "      <td>0.00</td>\n",
       "      <td>Amolatar</td>\n",
       "      <td>28759</td>\n",
       "      <td>418</td>\n",
       "      <td>11404</td>\n",
       "      <td>59</td>\n",
       "    </tr>\n",
       "    <tr>\n",
       "      <th>4</th>\n",
       "      <td>456</td>\n",
       "      <td>01124</td>\n",
       "      <td>ABERLER PRIMARY SCHOOL (01)</td>\n",
       "      <td>2018-08-07 00:00:00</td>\n",
       "      <td>In school</td>\n",
       "      <td>1.00</td>\n",
       "      <td>1.00</td>\n",
       "      <td></td>\n",
       "      <td>1.00</td>\n",
       "      <td>5.00</td>\n",
       "      <td>...</td>\n",
       "      <td>0</td>\n",
       "      <td>Northern1</td>\n",
       "      <td>Acholi</td>\n",
       "      <td>10-14</td>\n",
       "      <td>0.00</td>\n",
       "      <td>Amolatar</td>\n",
       "      <td>28759</td>\n",
       "      <td>418</td>\n",
       "      <td>11404</td>\n",
       "      <td>59</td>\n",
       "    </tr>\n",
       "  </tbody>\n",
       "</table>\n",
       "<p>5 rows × 582 columns</p>\n",
       "</div>"
      ],
      "text/plain": [
       "   uniquekey part_number                  school_name                 date  \\\n",
       "0        358       01128             ABARLER P/S (01)  2018-08-07 00:00:00   \n",
       "1        466       01150  ABERLER PRIMARY SCHOOL (01)  2018-08-07 00:00:00   \n",
       "2        385       01135    ABALER PRIMARY SCHOOL(01)  2018-08-07 00:00:00   \n",
       "3        381       01350                               2018-08-15 00:00:00   \n",
       "4        456       01124  ABERLER PRIMARY SCHOOL (01)  2018-08-07 00:00:00   \n",
       "\n",
       "     scol_status  scol_own  scol_location locate_other  scol_level  \\\n",
       "0      In school      1.00           2.00                     1.00   \n",
       "1      In school      1.00           2.00                     1.00   \n",
       "2      In school      1.00           2.00                     1.00   \n",
       "3  Out of school       NaN            NaN                     4.00   \n",
       "4      In school      1.00           1.00                     1.00   \n",
       "\n",
       "   born_month  ...  hivresult  regionstudy regionubos agegroup syphilis  \\\n",
       "0       10.00  ...          0    Northern1     Acholi    10-14     0.00   \n",
       "1       10.00  ...          0    Northern1     Acholi    10-14     0.00   \n",
       "2        7.00  ...          0    Northern1     Acholi    10-14     0.00   \n",
       "3       98.00  ...          0    Northern1     Acholi    10-14     0.00   \n",
       "4        5.00  ...          0    Northern1     Acholi    10-14     0.00   \n",
       "\n",
       "   district  pop_nf_1024  sam_nf_1024  pon_nfagegrp  sam_nfagegrp  \n",
       "0  Amolatar        28759          418         11404            59  \n",
       "1  Amolatar        28759          418         11404            59  \n",
       "2  Amolatar        28759          418         11404            59  \n",
       "3  Amolatar        28759          418         11404            59  \n",
       "4  Amolatar        28759          418         11404            59  \n",
       "\n",
       "[5 rows x 582 columns]"
      ]
     },
     "execution_count": 5,
     "metadata": {},
     "output_type": "execute_result"
    }
   ],
   "source": [
    "# Load the Stata file (.dta)\n",
    "df_load = pd.read_stata(\"./data/AGYW_dataset_for_UNICEF.dta\")\n",
    "\n",
    "df_load.columns = df_load.columns.str.lower() # standardize columns\n",
    "\n",
    "df_load = df_load.dropna(axis=1, how='all') # drop null columns\n",
    "df_load = df_load.drop(columns=df_load.loc[:, 'force_threat':'useful_item'].columns)\n",
    "df_load = df_load.drop(columns=['continues', 'district_code'])\n",
    "df_load = df_load.dropna(subset=['been_preg'])\n",
    "\n",
    "df_load.head()"
   ]
  },
  {
   "cell_type": "code",
   "execution_count": 6,
   "id": "0c1e9325-7821-46d3-ae5a-78b1a0a777b3",
   "metadata": {},
   "outputs": [
    {
     "name": "stdout",
     "output_type": "stream",
     "text": [
      "The raw dataset contains responses from 8076 girls (10-24) of which 2345 have been pregnancy.\n"
     ]
    }
   ],
   "source": [
    "total = df_load['been_preg'].shape[0]\n",
    "count = (df_load['been_preg'] == 1).sum()\n",
    "print(f\"The raw dataset contains responses from {total} girls (10-24) of which {count} have been pregnancy.\")"
   ]
  },
  {
   "cell_type": "markdown",
   "id": "9deb87e7-331c-4e26-b60a-555ecacb2901",
   "metadata": {},
   "source": [
    "## Recoding"
   ]
  },
  {
   "cell_type": "markdown",
   "id": "49e2eb47-6ea8-4651-8851-c43f40a42aef",
   "metadata": {},
   "source": [
    "Q.1001 Have you ever been pregnant and gave birth to a baby? [been_preg]\n",
    "\n",
    "Q.401 Have you ever had any sexual intercourse in your life? (By this, I mean when a man or boy puts his penis in a woman or girl’s vagina) [life_sex]\n",
    "\n",
    "Q.405 The first time you had sexual intercourse with someone; would you say you were willing, somewhat willing or not willing at all? Willing means you gave permission or said it was OK or that you did it because you wanted to and not because someone forced you to do it [will_sex]"
   ]
  },
  {
   "cell_type": "code",
   "execution_count": 9,
   "id": "42250fd4-1879-4de3-a029-06d66b197a00",
   "metadata": {},
   "outputs": [],
   "source": [
    "df_clean = df_load.copy()\n",
    "\n",
    "# Been pregnant (1 = Yes, 0 = No) [1001]\n",
    "df_clean['been_preg'] = df_clean['been_preg'].map({1.0: 1, 2.0: 0}).astype(int)\n",
    "\n",
    "# Life sex (1 = Yes, 0 = No) [401]\n",
    "df_clean['life_sex'] = df_clean['life_sex'].map({1.0: 1, 2.0: 0}).fillna(-1).astype(int) # fill na with -1 for now\n",
    "\n",
    "# life_sex (correcting erorrs where life_sex is coded as -1)\n",
    "df_clean.loc[(df_clean['been_preg'] == 1) & (df_clean['life_sex'] == -1), 'life_sex'] = 1\n",
    "df_clean.loc[(df_clean['been_preg'] == 0) & (df_clean['life_sex'] == -1), 'life_sex'] = 0\n",
    "df_clean.loc[(df_clean['been_preg'] == 1) & (df_clean['life_sex'] == 0), 'life_sex'] = 1\n",
    "\n",
    "# Willingness to have sex [405]\n",
    "df_clean['will_sex_binary'] = df_clean['will_sex'].map({1.0: 1, # very willing\n",
    "                                                        2.0: 1, # somewhat willing\n",
    "                                                        3.0: 0, # not willing at all\n",
    "                                                        4.0: 0}) # don't know\n",
    "\n",
    "# Did you or your partner do anything to prevent pregnancy? [406]\n",
    "df_clean['do_anything_binary'] = df_clean['do_anything'].map({1.0: 1, # yes\n",
    "                                                        2.0: 0, # no\n",
    "                                                        3.0: np.nan}) # don't remember\n",
    "\n",
    "# Were you under the influence of alcohol or drugs? [408]\n",
    "df_clean['under_influe_binary'] = df_clean['under_influe'].map({1.0: 1, # yes\n",
    "                                                        2.0: 0, # no\n",
    "                                                        3.0: np.nan}) # don't remember"
   ]
  },
  {
   "cell_type": "markdown",
   "id": "b8cfb8a4-08a3-42f6-88ea-1bd3e30691bc",
   "metadata": {},
   "source": [
    "Q.403 Which person did you have sex with for the first time? [person_sex]"
   ]
  },
  {
   "cell_type": "code",
   "execution_count": 11,
   "id": "f16893b2-ffb2-436a-9841-3c11e1b419dc",
   "metadata": {},
   "outputs": [
    {
     "data": {
      "text/plain": [
       "person_sex_group\n",
       "boyfriend    3765\n",
       "husband       476\n",
       "other         145\n",
       "Name: count, dtype: int64"
      ]
     },
     "execution_count": 11,
     "metadata": {},
     "output_type": "execute_result"
    }
   ],
   "source": [
    "# Recategorize\n",
    "def classify_partner(x):\n",
    "    if x == 1:\n",
    "        return 'boyfriend'\n",
    "    elif x == 2:\n",
    "        return 'husband'\n",
    "    elif x >= 3:\n",
    "        return 'other'\n",
    "    else:\n",
    "        return np.nan\n",
    "\n",
    "df_clean['person_sex_group'] = df_clean['person_sex'].apply(classify_partner)\n",
    "\n",
    "# Convert it to a categorical variable\n",
    "df_clean['person_sex_group'] = pd.Categorical(\n",
    "    df_clean['person_sex_group'],\n",
    "    categories=['boyfriend', 'husband', 'other'],\n",
    "    ordered=False\n",
    ")\n",
    "\n",
    "# Check the distribution\n",
    "df_clean['person_sex_group'].value_counts()"
   ]
  },
  {
   "cell_type": "markdown",
   "id": "d0575f7b-3e79-4e7a-9838-18fdfb2c9715",
   "metadata": {},
   "source": [
    "Q.409 When was the last time you had sexual intercourse? [last_sex]\n",
    "\n",
    "Q.411 In the past 12 months, how often did you use condoms with all these partners? [often_usecondom]\n",
    "\n",
    "Q.414 Thinking of THE LAST TIME you had intercourse with this partner, did you (or your partner) use a condom? [partuse_condom]\n",
    "\n",
    "Q.415 Thinking of all the times you had intercourse with this partner IN THE LAST 12 MONTHS, would you say you used a condom all the time, sometimes, or never? [some_times]\n",
    "\n",
    "Q.416b Some people are worried about pregnancy. How concerned are you or were you about getting pregnant? [worry_preg]"
   ]
  },
  {
   "cell_type": "code",
   "execution_count": 13,
   "id": "306cda15-367c-4059-94c5-733395a60e42",
   "metadata": {},
   "outputs": [],
   "source": [
    "# Order condom use last 12 months as 1 (Never), 2 (Sometimes), 3 (Always) [414]\n",
    "df_clean.loc[df_clean['some_times'].isin([4, 98]), 'some_times'] = np.nan\n",
    "df_clean['some_times'] = pd.to_numeric(df_clean['some_times'])\n",
    "\n",
    "# For pregnancy concern [416b]\n",
    "df_clean.loc[df_clean['worry_preg'].isin([98]), 'worry_preg'] = np.nan\n",
    "df_clean['worry_preg'] = pd.to_numeric(df_clean['worry_preg'])\n",
    "# reverse code higher values indicate greater concern (range from 1 to 4)\n",
    "df_clean['worry_preg_reverse'] = 5 - df_clean['worry_preg'] \n",
    "\n",
    "# For condom use at last sex [414]\n",
    "df_clean['partuse_condom_binary'] = np.where(df_clean['partuse_condom'] == 1, 1, 0)"
   ]
  },
  {
   "cell_type": "code",
   "execution_count": 14,
   "id": "b96c54c4-6348-4d20-bf4b-c8a7426f0a5d",
   "metadata": {},
   "outputs": [],
   "source": [
    "# 1003 How did the first pregnancy end? [preg_end]\n",
    "\n",
    "# 1011 Have you ever had a abortion? [had_abort]\n",
    "\n",
    "# 1015 Was your most recent abortion spontaneous or induced by you? [???]\n"
   ]
  },
  {
   "cell_type": "markdown",
   "id": "d94f9f7c-41f8-4aea-86b0-02f2950894b8",
   "metadata": {},
   "source": [
    "Q.intro SCHOOLING STATUS: 1…… IN-SCHOOL 2 ……. OUT OF SCHOOL [scol_status]\n",
    "\n",
    "Q.103a Have you ever attended school? [atttend_scol]\n",
    "\n",
    "Q.104c What are some of the main reasons you are not in school? (Select all that apply)"
   ]
  },
  {
   "cell_type": "code",
   "execution_count": 16,
   "id": "7d9ae556-9c8c-4f25-8b30-9637b1eee323",
   "metadata": {},
   "outputs": [],
   "source": [
    "# If not in school and attend school is blank replace with never attended school [Intro Q]\n",
    "df_clean.loc[(df_clean['scol_status'] == 'Out of school') & (df_clean['attend_scol'].isna()), 'attend_scol'] = 'No'\n",
    "\n",
    "# Have you ever attended school? [103a]\n",
    "df_clean['attend_scol_binary'] = df_clean['attend_scol'].map({'Yes':1,'No':0})\n",
    "\n",
    "# Reasons for drop out [104c]\n",
    "columns_to_encode = ['lack_fees', 'got_preg', 'got_married', 'got_sick', 'need_money', 'good_std', 'int_scol']\n",
    "df_clean[columns_to_encode] = df_clean[columns_to_encode].fillna(0)\n",
    "df_clean[columns_to_encode] = df_clean[columns_to_encode].map(lambda x: 1 if x == 1 else 0)"
   ]
  },
  {
   "cell_type": "markdown",
   "id": "28f22da6-a102-4c81-81e7-df4499b93212",
   "metadata": {},
   "source": [
    "Q.107a Are you currently married? (by marriage I mean religious, traditional, civil or consensual union) [current_married]"
   ]
  },
  {
   "cell_type": "code",
   "execution_count": 18,
   "id": "8ad46fb0-dbcf-49ce-a441-c220b4970ec8",
   "metadata": {},
   "outputs": [],
   "source": [
    "# Marital status to binary numeric (1 = Married, 0 = Never Married) [107a]\n",
    "df_clean['current_married_binary'] = df_clean['current_married'].map({\n",
    "    'MARRIED/UNION': 1,\n",
    "    'DIVORCED/SEPARATED':0,\n",
    "    'WIDOWED':0,\n",
    "    'NEVER MARRIED': 0,\n",
    "    'IN RELATIONSHIP BUT NOT MARRIED': 0\n",
    "})\n",
    "\n",
    "# Marital history to binary numeric (1 = Been married, 0 = Never Married) [107a]\n",
    "df_clean['been_married_binary'] = df_clean['current_married'].map({\n",
    "    'MARRIED/UNION': 1,\n",
    "    'DIVORCED/SEPARATED':1,\n",
    "    'WIDOWED':1,\n",
    "    'NEVER MARRIED': 0,\n",
    "    'IN RELATIONSHIP BUT NOT MARRIED': 0\n",
    "})"
   ]
  },
  {
   "cell_type": "markdown",
   "id": "251747ff-0d39-428d-9366-aa3f1d41c492",
   "metadata": {},
   "source": [
    "Q.1302 How many times have you sought services or information from a doctor or a nurse for these services in the last twelve months? [numb_times]"
   ]
  },
  {
   "cell_type": "code",
   "execution_count": 20,
   "id": "aa850d02-56e9-4afd-b43c-e6eb073a8c51",
   "metadata": {},
   "outputs": [],
   "source": [
    "# Replace 0 with 1 since every individual is assumed to have visited at least once [1302]\n",
    "df_clean['numb_times'] = df_clean['numb_times'].replace(0, 1)\n",
    "\n",
    "# Compute the IQR to set an upper bound for outliers\n",
    "q1 = df_clean['numb_times'].quantile(0.25)\n",
    "q3 = df_clean['numb_times'].quantile(0.75)\n",
    "iqr = q3 - q1\n",
    "upper_bound = q3 + 1.5 * iqr\n",
    "\n",
    "# Cap values above the upper bound to the upper bound value\n",
    "df_clean['numb_times'] = df_clean['numb_times'].clip(upper=upper_bound)"
   ]
  },
  {
   "cell_type": "markdown",
   "id": "3cd3342b-a43c-4170-bb59-46e0db083139",
   "metadata": {},
   "source": [
    "Q.1101 How old were you when you first got married? [age_marry]"
   ]
  },
  {
   "cell_type": "code",
   "execution_count": 22,
   "id": "63675774-0c64-483b-a199-87261a4511b2",
   "metadata": {},
   "outputs": [],
   "source": [
    "# Compute the IQR for age_marry\n",
    "q1 = df_clean['age_marry'].quantile(0.25)\n",
    "q3 = df_clean['age_marry'].quantile(0.75)\n",
    "iqr = q3 - q1\n",
    "\n",
    "# Calculate the lower bound\n",
    "lower_bound = q1 - 1.5 * iqr\n",
    "\n",
    "# Cap values below the lower bound to the lower_bound value\n",
    "df_clean['age_marry'] = df_clean['age_marry'].clip(lower=lower_bound)"
   ]
  },
  {
   "cell_type": "markdown",
   "id": "91469963-e8ce-4d44-890f-c2b3e4403cb1",
   "metadata": {},
   "source": [
    "Q.101 In what month and year were you born? [born_month]\n",
    "\n",
    "Q.102 How old were you at your last birthday? [age_completed]"
   ]
  },
  {
   "cell_type": "code",
   "execution_count": 24,
   "id": "bd20e7df-5d87-442f-8cb9-f1902554a2a4",
   "metadata": {},
   "outputs": [],
   "source": [
    "# If born_year is missing, estimate it using age_completed\n",
    "df_clean.loc[df_clean['born_year'].isna(), 'born_year'] = 2018 - df_clean['age_completed']\n",
    "\n",
    "# If born_month is missing, assume July as the midpoint of the year\n",
    "df_clean.loc[df_clean['born_month'].isna(), 'born_month'] = 7\n",
    "\n",
    "# Ensuring numeric dtypes\n",
    "df_clean['born_month'] = pd.to_numeric(df_clean['born_month'], errors='coerce')  # Convert to numeric, set errors to NaN\n",
    "df_clean['born_year'] = pd.to_numeric(df_clean['born_year'], errors='coerce')  # Convert to numeric\n",
    "\n",
    "# Fix `born_month`: Keep only values between 1 and 12, replace others with NaN\n",
    "df_clean.loc[~df_clean['born_month'].between(1, 12), 'born_month'] = np.nan\n",
    "\n",
    "# Fix `born_year`: Keep only reasonable values (between 1993 and 2008)\n",
    "df_clean.loc[~df_clean['born_year'].between(1993, 2008), 'born_year'] = np.nan\n",
    "\n",
    "# Assume missing `born_month` is July (middle of the year)\n",
    "df_clean['born_month'] = df_clean['born_month'].fillna(7)\n",
    "\n",
    "# Calculate exact months lived by July 2018\n",
    "df_clean['age_months'] = (2018 - df_clean['born_year']) * 12 + (7 - df_clean['born_month'])\n",
    "\n",
    "# Making sure that the pregnancy age is between 10 and 24\n",
    "df_clean.loc[~df_clean['age_preg'].between(10, 24), 'age_preg'] = np.nan\n",
    "\n",
    "# Missing age_preg is replaced with current age minus 1 year\n",
    "df_clean.loc[(df_clean['been_preg'] == 1) & (df_clean['age_preg'].isna()), 'age_preg'] = df_clean['age_completed'] - 1"
   ]
  },
  {
   "cell_type": "markdown",
   "id": "a8c8143d-a4e5-4c8e-9104-476ae0af3ad0",
   "metadata": {},
   "source": [
    "Q.402 How old were you when you had sexual intercourse for the very first time? [age_sex]\n",
    "\n",
    "Q.1001 Have you ever been pregnant and gave birth to a baby? [been_preg]\n",
    "\n",
    "Q.102 How old were you at your last birthday? [age_completed]\n",
    "\n",
    "Q.1101 How old were you when you first got married? [age_marry]\n",
    "\n",
    "Q.101 In what month and year were you born? [born_month]"
   ]
  },
  {
   "cell_type": "code",
   "execution_count": 26,
   "id": "82d8bf6e-d9dc-47cf-b723-9d13a3e80bff",
   "metadata": {},
   "outputs": [],
   "source": [
    "# 1. Update 'been_preg' based on 'age_preg'\n",
    "df_clean.loc[(df_clean['been_preg'] == 0) & (df_clean['age_preg'].notna()), 'been_preg'] = 1\n",
    "\n",
    "# 2. Validate 'sex_age'\n",
    "df_clean.loc[~df_clean['sex_age'].between(5, 24), 'sex_age'] = np.nan\n",
    "\n",
    "# 3. Assign 'sex_age' where missing for pregnant individuals\n",
    "df_clean.loc[(df_clean['been_preg'] == 1) & (df_clean['sex_age'].isna()), 'sex_age'] = df_clean['age_preg']\n",
    "\n",
    "# 4. Ensure 'sex_age' ≥ 'age_preg'\n",
    "df_clean.loc[(df_clean['been_preg'] == 1) & (df_clean['sex_age'] > df_clean['age_preg']), 'sex_age'] = df_clean['age_preg']\n",
    "\n",
    "# 5. Ensure 'age_preg' ≤ 'age_completed'\n",
    "df_clean.loc[(df_clean['been_preg'] == 1) & (df_clean['age_preg'] > df_clean['age_completed']), 'age_preg'] = df_clean['age_completed']\n",
    "\n",
    "# 6. Ensure that 'age_marry' ≤ 'age_completed'\n",
    "df_clean.loc[(df_clean['age_marry'] > df_clean['age_completed']), 'age_marry'] = df_clean['age_completed']\n",
    "\n",
    "# 7. Update 'age_marry' based on 'been_married'\n",
    "df_clean.loc[(df_clean['been_married_binary'] == 0) & (df_clean['age_marry'].notna()), 'age_marry'] = np.nan\n",
    "\n",
    "# 8. Remove invalid 'age_preg' entries\n",
    "df_clean = df_clean[(df_clean['age_preg'].isna()) | (df_clean['age_preg'] <= 25)].copy()\n",
    "\n",
    "# 9. Calculate 'diff'\n",
    "df_clean.loc[df_clean['been_preg'] == 1, 'diff'] = (df_clean['age_months'] / 12) - df_clean['age_preg']\n",
    "\n",
    "# 10. Handle negative 'diff' values\n",
    "df_clean.loc[df_clean['diff'] < -0.5, 'diff'] = np.nan"
   ]
  },
  {
   "cell_type": "markdown",
   "id": "cd5c9f14-0e0b-4ea8-90c4-165c12bcae39",
   "metadata": {},
   "source": [
    "### Sample sizes for different subsetting\n",
    "\n",
    "1. Sample 1 undercounts pregnancy events by excluding women who got pregnant as teens but are now older.\n",
    "2. Sample 2 includes all teenage pregnancies (good), but compares them to girls who are still in the risk window—some of whom might yet become pregnant (so there’s censoring).\n",
    "3. Sample 3 compares all teenage pregnancies to women who have passed through the risk window without becoming pregnant. This eliminates right‑censoring and gives a non‑pregnant group whose “at‑risk” period is complete."
   ]
  },
  {
   "cell_type": "code",
   "execution_count": 28,
   "id": "d35349bd-fd5d-4af3-85cd-9d80e25165f3",
   "metadata": {},
   "outputs": [
    {
     "data": {
      "text/plain": [
       "been_preg\n",
       "0    4216\n",
       "1     629\n",
       "Name: count, dtype: int64"
      ]
     },
     "execution_count": 28,
     "metadata": {},
     "output_type": "execute_result"
    }
   ],
   "source": [
    "# Not been pregnant (currently 10-19) | Been pregnant (currently 10-19)\n",
    "df_sample_1 = df_clean.loc[(df_clean['age_completed'] <= 19)]\n",
    "df_sample_1.been_preg.value_counts()"
   ]
  },
  {
   "cell_type": "code",
   "execution_count": 29,
   "id": "4437b8ab-320f-4921-939b-30f170c8cce6",
   "metadata": {},
   "outputs": [
    {
     "data": {
      "text/plain": [
       "been_preg\n",
       "0    4216\n",
       "1    1925\n",
       "Name: count, dtype: int64"
      ]
     },
     "execution_count": 29,
     "metadata": {},
     "output_type": "execute_result"
    }
   ],
   "source": [
    "# Not been pregnant (currently 10-19) | Been pregnant 10-19 (irrespective of current age)\n",
    "df_sample_2 = df_clean.loc[\n",
    "    ( (df_clean['been_preg'] == 1) & (df_clean['age_preg'] <= 19) )\n",
    "    |\n",
    "    ( (df_clean['been_preg'] == 0) & (df_clean['age_completed'] <= 19) )\n",
    "]\n",
    "\n",
    "df_sample_2['been_preg'].value_counts()"
   ]
  },
  {
   "cell_type": "code",
   "execution_count": 30,
   "id": "8d00951b-b18b-4391-836f-f8d0b0820de9",
   "metadata": {},
   "outputs": [
    {
     "data": {
      "text/plain": [
       "been_preg\n",
       "1    1925\n",
       "0    1513\n",
       "Name: count, dtype: int64"
      ]
     },
     "execution_count": 30,
     "metadata": {},
     "output_type": "execute_result"
    }
   ],
   "source": [
    "# Never been pregnant (currently older than 19) | Been pregnant 10-19 (irrespective of current age)\n",
    "df_sample_3 = df_clean.loc[\n",
    "    ( (df_clean['been_preg'] == 1) & (df_clean['age_preg'] <= 19) )\n",
    "    |\n",
    "    ( (df_clean['been_preg'] == 0) & (df_clean['age_completed'] >= 20) )\n",
    "]\n",
    "\n",
    "df_sample_3['been_preg'].value_counts()"
   ]
  },
  {
   "cell_type": "markdown",
   "id": "4c9b2cae-1046-47a9-9e4f-d3a1c0aa7c26",
   "metadata": {},
   "source": [
    "## Creating categories"
   ]
  },
  {
   "cell_type": "markdown",
   "id": "a4fbb33d-fa17-4505-89c2-cb340328efe6",
   "metadata": {},
   "source": [
    "**Marriage before, after, never**"
   ]
  },
  {
   "cell_type": "code",
   "execution_count": 33,
   "id": "eef7b01e-2b75-4d3d-aaba-28eea44c4d42",
   "metadata": {},
   "outputs": [
    {
     "name": "stdout",
     "output_type": "stream",
     "text": [
      "marriage_timing\n",
      "never     6701\n",
      "before    1129\n",
      "after      246\n",
      "Name: count, dtype: int64\n"
     ]
    }
   ],
   "source": [
    "# Marriage before pregnancy [107a]\n",
    "def marriage_timing(row):\n",
    "    if pd.isna(row['age_marry']):\n",
    "        return 'never'\n",
    "    elif row['age_marry'] > row['age_preg']:\n",
    "        return 'after'\n",
    "    else:\n",
    "        return 'before'\n",
    "\n",
    "df_clean['marriage_timing'] = df_clean.apply(marriage_timing, axis=1)\n",
    "\n",
    "print(df_clean['marriage_timing'].value_counts())"
   ]
  },
  {
   "cell_type": "markdown",
   "id": "f42a04b0-5088-43a0-aff9-faf37f61d297",
   "metadata": {},
   "source": [
    "The table below shows the count of total girls, pregnancies, and pregnancy rate based on the timing of marriage: before pregnancy, after pregnancy (100% as expected) and never been married. "
   ]
  },
  {
   "cell_type": "code",
   "execution_count": 67,
   "id": "8a344d4e-2af5-41c8-9c9a-58f665d08e7e",
   "metadata": {},
   "outputs": [
    {
     "data": {
      "text/html": [
       "<div>\n",
       "<style scoped>\n",
       "    .dataframe tbody tr th:only-of-type {\n",
       "        vertical-align: middle;\n",
       "    }\n",
       "\n",
       "    .dataframe tbody tr th {\n",
       "        vertical-align: top;\n",
       "    }\n",
       "\n",
       "    .dataframe thead th {\n",
       "        text-align: right;\n",
       "    }\n",
       "</style>\n",
       "<table border=\"1\" class=\"dataframe\">\n",
       "  <thead>\n",
       "    <tr style=\"text-align: right;\">\n",
       "      <th></th>\n",
       "      <th>marriage_timing</th>\n",
       "      <th>total_girls</th>\n",
       "      <th>pregnancies</th>\n",
       "      <th>preg_rate</th>\n",
       "    </tr>\n",
       "  </thead>\n",
       "  <tbody>\n",
       "    <tr>\n",
       "      <th>0</th>\n",
       "      <td>after</td>\n",
       "      <td>246</td>\n",
       "      <td>246</td>\n",
       "      <td>1.00</td>\n",
       "    </tr>\n",
       "    <tr>\n",
       "      <th>1</th>\n",
       "      <td>before</td>\n",
       "      <td>1129</td>\n",
       "      <td>1078</td>\n",
       "      <td>0.95</td>\n",
       "    </tr>\n",
       "    <tr>\n",
       "      <th>2</th>\n",
       "      <td>never</td>\n",
       "      <td>6701</td>\n",
       "      <td>1023</td>\n",
       "      <td>0.15</td>\n",
       "    </tr>\n",
       "  </tbody>\n",
       "</table>\n",
       "</div>"
      ],
      "text/plain": [
       "  marriage_timing  total_girls  pregnancies  preg_rate\n",
       "0           after          246          246       1.00\n",
       "1          before         1129         1078       0.95\n",
       "2           never         6701         1023       0.15"
      ]
     },
     "execution_count": 67,
     "metadata": {},
     "output_type": "execute_result"
    }
   ],
   "source": [
    "# marriage_timing by total girls, pregnancies, and pregnancy rate\n",
    "summary = (\n",
    "    df_clean\n",
    "      .groupby('marriage_timing')['been_preg']\n",
    "      .agg(\n",
    "          total_girls = 'count',\n",
    "          pregnancies  = 'sum',\n",
    "          preg_rate    = 'mean'\n",
    "      )\n",
    "      .reset_index()\n",
    ")\n",
    "summary"
   ]
  },
  {
   "cell_type": "markdown",
   "id": "3a158786-de42-4f55-84f3-762bb9d4e134",
   "metadata": {},
   "source": [
    "**School Complete**\n",
    "\n",
    "In Uganda, Universal Primary Education guarantees completion through P7, but many consider completion of lower secondary (O‑Level, S1–S4) as the de facto end of free, guaranteed schooling. Below, school completeness is considered from O-Level, S1-S4.\n",
    "\n",
    "* in_school = 'in school'\n",
    "* out_complete = 'out of school' & level >= O-Level\n",
    "* drop_out = 'out of school' & level < O-level"
   ]
  },
  {
   "cell_type": "code",
   "execution_count": 36,
   "id": "128a83fa-60f4-4a53-90d1-c048a5cab8d0",
   "metadata": {},
   "outputs": [
    {
     "data": {
      "text/plain": [
       "school_complete\n",
       "in_school        4020\n",
       "drop_out         3685\n",
       "out_completed     371\n",
       "Name: count, dtype: int64"
      ]
     },
     "execution_count": 36,
     "metadata": {},
     "output_type": "execute_result"
    }
   ],
   "source": [
    "# Highest level completed\n",
    "completed = [4, 5, 6, 7, 8, 9]\n",
    "\n",
    "# Function for in_school, out_completed, drop_out\n",
    "def classify_school(row, complete_codes):\n",
    "    if row['scol_status'] == 'In school':\n",
    "        return 'in_school'\n",
    "    # out of school:\n",
    "    if row['highest_educ'] in complete_codes:\n",
    "        return 'out_completed'\n",
    "    else:\n",
    "        return 'drop_out'\n",
    "\n",
    "# Using O‑Level as the cutoff\n",
    "df_clean['school_complete'] = df_clean.apply(classify_school, axis=1, \n",
    "                               complete_codes=completed)\n",
    "\n",
    "df_clean['school_complete'].value_counts()"
   ]
  },
  {
   "cell_type": "markdown",
   "id": "fc3632e3-81bc-40c7-ae7e-0ed8fce2a7b6",
   "metadata": {},
   "source": [
    "**Dropped out**"
   ]
  },
  {
   "cell_type": "code",
   "execution_count": 38,
   "id": "61d83d14-d0e5-4d74-a06b-9fbf1f14e54b",
   "metadata": {},
   "outputs": [
    {
     "data": {
      "text/plain": [
       "dropped_out\n",
       "0    7380\n",
       "1     696\n",
       "Name: count, dtype: int64"
      ]
     },
     "execution_count": 38,
     "metadata": {},
     "output_type": "execute_result"
    }
   ],
   "source": [
    "df_clean['dropped_out'] = np.where(\n",
    "    (df_clean['scol_status'] == 'Out of school') & (df_clean['highest_educ'] < 4),\n",
    "    1,\n",
    "    0\n",
    ")\n",
    "\n",
    "df_clean['dropped_out'].value_counts()"
   ]
  },
  {
   "cell_type": "markdown",
   "id": "01ca9fc5-f197-498e-98bb-22a24a3ed59d",
   "metadata": {},
   "source": [
    "**Household Vulnerability**\n",
    "\n",
    "Vulnerability was measured at the individual, household and community levels, following the steps outlined in the report entitled, The Adolescent Girls Vulnerability Index: Guiding Strategic Investment in Uganda.\n",
    "\n",
    "For household level, a girl was considered vulnerable if she experienced any two of the following five conditions: no access to improved source of water, no access to improved sanitation, household head has no education, food insecurity (no access to food in a day), and non-family support (ever consulted others for social support other than a family member)."
   ]
  },
  {
   "cell_type": "code",
   "execution_count": 40,
   "id": "316d1ec9-24cd-4791-b9c6-ccf8d33c9678",
   "metadata": {},
   "outputs": [
    {
     "data": {
      "text/html": [
       "<div>\n",
       "<style scoped>\n",
       "    .dataframe tbody tr th:only-of-type {\n",
       "        vertical-align: middle;\n",
       "    }\n",
       "\n",
       "    .dataframe tbody tr th {\n",
       "        vertical-align: top;\n",
       "    }\n",
       "\n",
       "    .dataframe thead th {\n",
       "        text-align: right;\n",
       "    }\n",
       "</style>\n",
       "<table border=\"1\" class=\"dataframe\">\n",
       "  <thead>\n",
       "    <tr style=\"text-align: right;\">\n",
       "      <th></th>\n",
       "      <th>hh_vul</th>\n",
       "      <th>been_preg</th>\n",
       "      <th>count</th>\n",
       "      <th>percentage</th>\n",
       "    </tr>\n",
       "  </thead>\n",
       "  <tbody>\n",
       "    <tr>\n",
       "      <th>0</th>\n",
       "      <td>0</td>\n",
       "      <td>0</td>\n",
       "      <td>4852</td>\n",
       "      <td>70.11</td>\n",
       "    </tr>\n",
       "    <tr>\n",
       "      <th>1</th>\n",
       "      <td>0</td>\n",
       "      <td>1</td>\n",
       "      <td>2069</td>\n",
       "      <td>29.89</td>\n",
       "    </tr>\n",
       "    <tr>\n",
       "      <th>2</th>\n",
       "      <td>1</td>\n",
       "      <td>0</td>\n",
       "      <td>877</td>\n",
       "      <td>75.93</td>\n",
       "    </tr>\n",
       "    <tr>\n",
       "      <th>3</th>\n",
       "      <td>1</td>\n",
       "      <td>1</td>\n",
       "      <td>278</td>\n",
       "      <td>24.07</td>\n",
       "    </tr>\n",
       "  </tbody>\n",
       "</table>\n",
       "</div>"
      ],
      "text/plain": [
       "   hh_vul  been_preg  count  percentage\n",
       "0       0          0   4852       70.11\n",
       "1       0          1   2069       29.89\n",
       "2       1          0    877       75.93\n",
       "3       1          1    278       24.07"
      ]
     },
     "execution_count": 40,
     "metadata": {},
     "output_type": "execute_result"
    }
   ],
   "source": [
    "# Conditions met for HH vulnerability index\n",
    "df_clean['pre_ques'] = df_clean.loc[:, 'sick_adult':'care_orphan'].apply(lambda row: (row == 1).sum(), axis=1)\n",
    "df_clean['hh_vul'] = 0  # Default to 0 for all\n",
    "\n",
    "# Only apply vulnerability conditions if pre_ques > 0\n",
    "df_clean.loc[df_clean['pre_ques'] > 0, 'hh_vul'] = (\n",
    "    (\n",
    "        (df_clean['source_water'] == 3).astype(int) +  # No improved water\n",
    "        (df_clean['type_toilet'] != 1).astype(int) +  # No improved sanitation\n",
    "        (df_clean['highest_educ'].isna()).astype(int) +  # Household head has no education (skipped question)\n",
    "        (df_clean['enough_food'] != 1).astype(int) +  # Food insecurity (at least 1 day without food)\n",
    "        (df_clean['consult_spirit'] != 1).astype(int)  # Consulted non-family for social support\n",
    "    ) >= 2  # If at least two conditions are met → Vulnerable (1), otherwise (0)\n",
    ").astype(int)  # Ensure the column contains only 0s and 1s\n",
    "\n",
    "# Tabulate population count\n",
    "hh_vul_count = df_clean.groupby(['hh_vul', 'been_preg']).size().reset_index(name='count')\n",
    "hh_vul_count['percentage'] = hh_vul_count['count'] / hh_vul_count.groupby('hh_vul')['count'].transform('sum') * 100\n",
    "hh_vul_count"
   ]
  },
  {
   "cell_type": "code",
   "execution_count": 41,
   "id": "0baf576b-306a-4c33-a0bb-799aec7783fb",
   "metadata": {},
   "outputs": [
    {
     "name": "stdout",
     "output_type": "stream",
     "text": [
      "  Wealth Tertile  Count  Percentage\n",
      "0            Low   2693       33.30\n",
      "1         Medium   2691       33.30\n",
      "2           High   2692       33.30\n"
     ]
    },
    {
     "data": {
      "image/png": "[encoded data removed]",
      "text/plain": [
       "<Figure size 800x500 with 1 Axes>"
      ]
     },
     "metadata": {},
     "output_type": "display_data"
    },
    {
     "name": "stdout",
     "output_type": "stream",
     "text": [
      "tv_set         0.41\n",
      "electricity    0.38\n",
      "run_water      0.37\n",
      "bath_room      0.36\n",
      "car            0.32\n",
      "income_busin   0.28\n",
      "computer       0.22\n",
      "motorcycle     0.21\n",
      "radio          0.20\n",
      "cell_phone     0.20\n",
      "reg_phone      0.15\n",
      "generator      0.13\n",
      "solar          0.11\n",
      "own_home       0.09\n",
      "bicycle        0.09\n",
      "dtype: float64\n"
     ]
    }
   ],
   "source": [
    "# Wealth quintiles\n",
    "asset_vars = ['radio',\n",
    "              'tv_set',\n",
    "              'bicycle',\n",
    "              'motorcycle',\n",
    "              'own_home',\n",
    "              'cell_phone',\n",
    "              'reg_phone',\n",
    "              'computer',\n",
    "              'income_busin',\n",
    "              'bath_room',\n",
    "              'run_water',\n",
    "              'electricity',\n",
    "              'car',\n",
    "              'generator',\n",
    "              'solar'\n",
    "             ]\n",
    "\n",
    "# Handle categorical responses: Replace '98' with NaN and convert to binary\n",
    "df_assets = df_clean[asset_vars].replace(98, np.nan).copy()\n",
    "df_assets = df_assets.map(lambda x: 1 if x == 1 else 0)\n",
    "\n",
    "# Fill NaN with 0 (assuming lack of asset ownership if unsure)\n",
    "df_assets = df_assets.fillna(0)\n",
    "\n",
    "# Standardize the data\n",
    "scaler = StandardScaler()\n",
    "assets_scaled = scaler.fit_transform(df_assets)\n",
    "\n",
    "# Apply PCA\n",
    "pca = PCA(n_components=1)\n",
    "wealth_index = pca.fit_transform(assets_scaled)\n",
    "\n",
    "# Assign the first principal component as a flat array\n",
    "df_clean['wealth_index'] = wealth_index[:, 0]\n",
    "\n",
    "# Create wealth tertiles\n",
    "df_clean['wealth_tertile'] = pd.qcut(df_clean['wealth_index'], 3, labels=['Low', 'Medium', 'High'])\n",
    "\n",
    "df_clean['wealth_tertile'] = pd.Categorical(\n",
    "    df_clean['wealth_tertile'],\n",
    "    categories=['Low', 'Medium', 'High'],\n",
    "    ordered=True\n",
    ")\n",
    "\n",
    "# Summary table\n",
    "wealth_summary = df_clean['wealth_tertile'].value_counts().sort_index().reset_index()\n",
    "wealth_summary.columns = ['Wealth Tertile', 'Count']\n",
    "wealth_summary['Percentage'] = (wealth_summary['Count'] / wealth_summary['Count'].sum() * 100).round(1)\n",
    "\n",
    "print(wealth_summary)\n",
    "\n",
    "# Visualize the Wealth Tertiles\n",
    "plt.figure(figsize=(8, 5))\n",
    "sns.countplot(x='wealth_tertile', data=df_clean, palette=\"viridis\", hue='wealth_tertile')\n",
    "plt.xlabel(\"Wealth Tertile\")\n",
    "plt.ylabel(\"Number of Households\")\n",
    "plt.title(\"Distribution of Wealth Tertiles\")\n",
    "sns.despine(top=True, right=True)\n",
    "plt.tight_layout()\n",
    "plt.savefig('wealth_tertiles.png', dpi=300)\n",
    "plt.show()\n",
    "\n",
    "# Display PCA weights\n",
    "wealth_weights = pd.Series(pca.components_[0], index=asset_vars)\n",
    "print(wealth_weights.sort_values(ascending=False))"
   ]
  },
  {
   "cell_type": "markdown",
   "id": "93763d11-7007-4b52-8d8c-ac9564118663",
   "metadata": {},
   "source": [
    "## Export"
   ]
  },
  {
   "cell_type": "code",
   "execution_count": 43,
   "id": "f8ffba06-44e3-4b6d-94d0-13c6dfbd8151",
   "metadata": {},
   "outputs": [
    {
     "name": "stdout",
     "output_type": "stream",
     "text": [
      "<class 'pandas.core.frame.DataFrame'>\n",
      "Index: 8076 entries, 0 to 8235\n",
      "Columns: 600 entries, uniquekey to wealth_tertile\n",
      "dtypes: category(25), float32(33), float64(438), int16(4), int32(2), int64(15), int8(22), object(61)\n",
      "memory usage: 33.5+ MB\n"
     ]
    }
   ],
   "source": [
    "# Export as csv\n",
    "df_clean.to_csv('./data/processed_df.csv', index=False)\n",
    "df_clean.info()"
   ]
  }
 ],
 "metadata": {
  "kernelspec": {
   "display_name": "Python 3 (ipykernel)",
   "language": "python",
   "name": "python3"
  },
  "language_info": {
   "codemirror_mode": {
    "name": "ipython",
    "version": 3
   },
   "file_extension": ".py",
   "mimetype": "text/x-python",
   "name": "python",
   "nbconvert_exporter": "python",
   "pygments_lexer": "ipython3",
   "version": "3.11.7"
  }
 },
 "nbformat": 4,
 "nbformat_minor": 5
}
